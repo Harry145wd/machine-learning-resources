{
  "nbformat": 4,
  "nbformat_minor": 0,
  "metadata": {
    "colab": {
      "name": "Predicción de números en una imagen con TensorFlow.ipynb",
      "provenance": [],
      "collapsed_sections": []
    },
    "kernelspec": {
      "name": "python3",
      "display_name": "Python 3"
    },
    "accelerator": "TPU"
  },
  "cells": [
    {
      "cell_type": "markdown",
      "metadata": {
        "id": "Uz579iQHQqaK",
        "colab_type": "text"
      },
      "source": [
        "# Introducción a machine learning con TensorFlow"
      ]
    },
    {
      "cell_type": "markdown",
      "metadata": {
        "id": "YCfy_TndvkIH",
        "colab_type": "text"
      },
      "source": [
        "### ¿Qué es *Machine Learning*?\n",
        "Machine Learning es una rama de la inteligencia artificial en la que se implementan métodos y arquitecturas para que una máquina \"aprenda\". Dentro de esta rama, es común el uso de *redes neuronales*, y eso es lo que vamos a implementar en este notepad. Nuestra meta será que la máquina \"aprenda\" a identificar números en una imagen. \n",
        "\n",
        "### ¿Qué es una red neuronal?\n",
        "Una red neuronal es un conjunto de elementos conectados entre sí. Estos elementos son 'neuronas' artificiales. Existen distintos tipos de neuronas artificiales, pero todas se basan en los mismos fundamentos.\n",
        "\n",
        "Las neuronas tienen \"entradas\" y \"salidas\". Dependiendo del tipo de neurona, la entrada y la salida será un valor discreto (por ejemplo, 1 o 0), aunque generalmente se suele trabajar con valores de punto flotante. \n",
        "\n",
        "Cada entrada de una neurona tiene un \"peso\", que se multiplica por el valor de cada entrada. Dentro de la neurona, se suman todas las entradas multiplicadas por su peso y además se le suma un \"bias\" (desviación). El resultado de este polinomio se aplica a una función para generar su salida. \n",
        "\n",
        "[IMAGEN 01]\n",
        "\n",
        "La función que se aplica al polinomio (llamada función de activación) dependerá del modelo que se quiera. Por ejemplo, la neurona llamada \"perceptrón\" es la más básica, y la función es tan simple como:\n",
        "\n",
        "[IMAGEN 02]\n",
        "\n",
        "Por último, la red neuronal se arma \"conectando\" las salidas y entradas de cada neurona entre sí, formando distintas capas. La primera \"capa\" de una red neuronal es la que funciona de \"entrada\", la última es la \"capa de salida\", y las \"capas intermedias\" se conocen como \"capas ocultas\" o *hidden layers*. En la siguiente imagen se puede ver un diagrama que representa una red neuronal:\n",
        "\n",
        "[IMAGEN 03]\n",
        "\n",
        "En la red de la imagen tenemos 18 neuronas en total, divididas en cuatro capas. La capa de entrada y salida tienen 4 neuronas cada una, y hay además dos capas ocultas de cinco neuronas cada una.\n",
        "\n",
        "Bueno, en este momento sabemos conceptualmente qué es una red neuronal, pero... ¿Qué las hace especiales? ¿Para qué sirven?\n",
        "\n",
        "Las redes neuronales son especiales porque modificando los pesos y *bias* de cada neurona, se puede lograr que con una determinada entrada, se produzca una salida esperada. Vamos a un ejemplo concreto: Podría hacer que la entrada de la red neuronal sea una imagen, y que la salida indique que en esa imagen hay un perro. Pero también, quiero que si la imagen tiene un gato, la salida indique que en la imagen hay un gato, para eso los valores de pesos y *bias* tienen que ser muy precisos y lograr ese comportamiento deseado. \n",
        "\n",
        "Bien, entonces podemos ajustar los valores de cada neurona y hacer que la red \"identifique\" animales en una imagen (también podemos hacer que identifique números en una imagen, etc.), pero ¿Tenemos que acomodar los valores de cada neurona a mano? ¿Qué pasa si la red tiene miles o millones de neuronas? Existe un proceso previo a que una neurona sirva para identificar algo, que se conoce como \"entrenamiento\".\n",
        "\n",
        "### Entrenamiento de una red neuronal\n",
        "\n",
        "Entrenar una red neuronal es un paso fundamental en el que utilizamos un *dataset* de entrenamiento y ajustamos los valores de las neuronas para que funcionen como queremos. Existen distintos algoritmos que se utilizan para entrenar una red neuronal, pero investigarlos está fuera de lo que se pretende en este notepad.\n",
        "\n",
        "Un *dataset* es, un conjunto de datos (cuanto más grande y variado, mejor), que sirva para \"enseñar\". Por ejemplo, un conjunto de imágenes con números y a qué número corresponde cada foto. El algoritmo de entrenamiento recorrerá cada elemento de este *dataset* uno por uno. Escencialmente, lo que se hacen estos algoritmos es, ubicar cada elemento del *dataset* en la entrada de la red neuronal. En un principio la salida de la red para ese elemento probablemente sea incorrecta, entonces el algoritmo modificará los valores para que la salida sea lo más parecida a lo que indica el dataset de entrenamiento."
      ]
    },
    {
      "cell_type": "markdown",
      "metadata": {
        "id": "2Y1ZBOBAQkp5",
        "colab_type": "text"
      },
      "source": [
        "## Implementación del código\n",
        "\n",
        "Teniendo todos los conceptos anteriores, vamos al código y a cómo se hace un red neuronal en Python."
      ]
    },
    {
      "cell_type": "markdown",
      "metadata": {
        "id": "nDQQwPTBoUYO",
        "colab_type": "text"
      },
      "source": [
        "Antes de comenzar, es necesario importar las librerías necesarias.\n",
        "Para armar nuestra red neuronal utilizaremos TensorFlow. \n",
        "Tensorflow es un framework ahora adoptado por Google que nos provee muchas \n",
        "herramientas para definir redes neuronales (o modelos, como se los llama \n",
        "comunmente). Dentro de Tensorflow encontramos Keras, una API que nos provee\n",
        "de distintos modelos de capas, modelos, datasets, etc.\n",
        "Matplotlib es una librería que sirve para generar y mostrar gráficos. Se usa\n",
        "mucho para el análisis de datos en Python."
      ]
    },
    {
      "cell_type": "code",
      "metadata": {
        "id": "f59SI3nSe0vS",
        "colab_type": "code",
        "colab": {}
      },
      "source": [
        "# Importamos Keras y Tensorflow\n",
        "import tensorflow as tf\n",
        "from tensorflow import keras\n",
        "from keras.models import Sequential\n",
        "from keras.layers import Dense, Input\n",
        "\n",
        "# Importamos Numpy\n",
        "import numpy as np\n",
        "\n",
        "# Importamos matplotlib\n",
        "import matplotlib\n"
      ],
      "execution_count": null,
      "outputs": []
    },
    {
      "cell_type": "markdown",
      "metadata": {
        "id": "oNE6RqwHoq4g",
        "colab_type": "text"
      },
      "source": [
        "Para poder hacer la práctica, vamos a hacer uso de un dataset llamado \n",
        "\"mnist handwritten digit database\". Este dataset tiene una gran cantidad de \n",
        "imágenes de 28x28 pixeles, con un número escrito a mano en cada imagen. Además\n",
        "este dataset tiene las \"etiquetas\" que indican también qué número se encuentra\n",
        "en cada imagen. "
      ]
    },
    {
      "cell_type": "code",
      "metadata": {
        "id": "ubNfWGLL6E66",
        "colab_type": "code",
        "colab": {}
      },
      "source": [
        "# La siguiente línea de código utiliza un método dentro del paquete \"dataset\" de\n",
        "# Keras que descarga el dataset mnist y lo devuelve en forma de matrices.\n",
        "(train_images, train_labels), (test_images, test_labels) = tf.keras.datasets.mnist.load_data()"
      ],
      "execution_count": null,
      "outputs": []
    },
    {
      "cell_type": "markdown",
      "metadata": {
        "id": "u28dtSUyo7AU",
        "colab_type": "text"
      },
      "source": [
        " La variable train_images contiene un array con 60000 matrices de 28x28.\n",
        " Cada elemento de cada matriz de la variable train_images representa un píxel.\n",
        " Si el elementro vale 0, el píxel es negro, si el elemento vale 255, el píxel\n",
        " es blanco. Cualquier valor entre medio representa un tono intermedio entre\n",
        " blanco y negro\n",
        "\n",
        " La variable train_labels también es un array con 60000 números. Cada número \n",
        " representa el número que está escrito en cada imagen que hay en train_images.\n",
        " Imprimimos debajo el primer elemento que hay en train_labels, y vemos que el\n",
        " número que se muestra es el mismo que vemos en la imagen que se imprimió con \n",
        " matplotlib."
      ]
    },
    {
      "cell_type": "code",
      "metadata": {
        "id": "st5WP1g1o7gs",
        "colab_type": "code",
        "colab": {}
      },
      "source": [
        "# En la siguiente línea, imprimimos el primer elementro de train_images para ver \n",
        "# más claramente cómo se representa la imagen\n",
        "print(train_images[0])\n",
        "\n",
        "# Ahora imprimimos ese mismo elemento utilizando matplotlib, y vemos como imagen\n",
        "# el número que está guardado en train_images[0]\n",
        "matplotlib.pyplot.imshow(train_images[0], cmap='gray')\n",
        "matplotlib.pyplot.show()\n",
        "\n",
        "print(\"El número que está en la imagen 0 del array de entrenamiento es\",\n",
        "      train_labels[0])"
      ],
      "execution_count": null,
      "outputs": []
    },
    {
      "cell_type": "markdown",
      "metadata": {
        "id": "u9qS7DJZpLm5",
        "colab_type": "text"
      },
      "source": [
        " Para poder seguir, necesitamos que cada imagen en vez de ser un array de dos\n",
        " dimensiones, sea un array de una dimensión (sería como poner cada píxel de la\n",
        " imagen uno al lado del otro). Por otro lado, Keras funciona mejor con números\n",
        " con decimales que estén entre 0 y 1. Esto lo logramos dividiendo cada elemento\n",
        " (los que valían entre 0 y 255) por 255. Por\n",
        " ejemplo:\n",
        "- Si el píxel valía   0: 0 / 255 = 0\n",
        "- Si el píxel valía 255: 255/255 = 1\n",
        "- Si el píxel valía 128: 128/255 = 0.5\n",
        "\n",
        "Como se ve en los ejemplos, el resultado siempre será un número entre 0 y 255.\n",
        "\n",
        "Así como conviene que las imágenes sean números con decimales (flotantes),\n",
        "también Keras funcionará mejor si las etiquetas también son números flotantes.\n",
        "Parece que no tiene sentido, de hecho, si el númer por ejemplo era un 5, ahora\n",
        "pasará a ser 5.0, pero internamente, este tipo de dato proporciona mejores \n",
        "resultados (hace que nuestra inteligencia artificial sea más inteligente)."
      ]
    },
    {
      "cell_type": "code",
      "metadata": {
        "id": "8B-QKsCfQEQo",
        "colab_type": "code",
        "colab": {}
      },
      "source": [
        "\n",
        "# Todas las \"transformaciones\" las logramos con la siguiente línea de código\n",
        "train_images = train_images.reshape(60000, 784).astype('float32') / 255\n",
        "\n",
        "\n",
        "# Para convertir cada etiqueta a un número con \"coma flotante\", utilizamos la \n",
        "# siguiente instrucción.\n",
        "train_labels = train_labels.astype('float32')"
      ],
      "execution_count": null,
      "outputs": []
    },
    {
      "cell_type": "markdown",
      "metadata": {
        "id": "_zDj4wi66rnd",
        "colab_type": "text"
      },
      "source": [
        "Bueno, ya tenemos un dataset para entrenar nuestra red neuronal, ya\n",
        "tiene el formato que necesitamos (todas las imágenes en una sola \"línea de \n",
        "píxeles\", números con decimales, etc.), es momento de definir la \"forma\" de \n",
        "esta red. Como mencioné antes, en general, las redes neuronales se conocen \n",
        "como \"modelo\", así que a partir de ahora, así vamos a llamarlo.\n",
        "\n",
        "Como cada imagen era de 28x28, y nosotros lo transformamos en un vector de una\n",
        "sola dimensión, ahora cada imagen tiene 784x1. Es por esto que nuestro modelo\n",
        "tendrá una primera capa de 784 neuronas.\n",
        "Los posibles dígitos que pueden estar en cada imagen son 0,1,2,3,4,5,6,7,8 y 9\n",
        "O sea que hay 10 posibles dígitos de \"salida\". Lo que vamos a hacer es definir\n",
        "capa de salida de 10 neuronas. Vamos a ver que la neurona que \"más se activa\"\n",
        "indica cuál es el número que entra.\n",
        "\n",
        "Con respecto a las capas ocultas, vamos a agregar una capa oculta de 128 neuronas. La cantidad de capas ocultas, y las\n",
        "neuronas que tenga cada una, dependerá de lo que queremos que haga nuestro \n",
        "modelo. No hay una regla exacta sobre cómo tienen que ser las capas ocultas.\n",
        "el parámetro \"activation\" representa la función de activación, existe amplia\n",
        "documentación sobre qué función de activación utilizar en cada caso. En este\n",
        "caso, utilizamos la función de activación \"relu\""
      ]
    },
    {
      "cell_type": "code",
      "metadata": {
        "id": "-YiISEaPfu1l",
        "colab_type": "code",
        "colab": {}
      },
      "source": [
        "# Este tipo de modelo se conoce como \"Sequential\", así que definimos nuestro \n",
        "# modelo con la siguiente línea de código. \n",
        "model = Sequential()\n",
        "\n",
        "# Agregamos la capa de entrada, de 784 neuronas.\n",
        "model.add(Input(784))\n",
        "\n",
        "# Agregamos una capa oculta de 128 neuronas.\n",
        "model.add(Dense(128, activation='relu'))\n",
        "\n",
        "# Agregamos la salida, y la definimos de 10 neuronas.\n",
        "model.add(Dense(10))\n",
        "\n",
        "# Si bien nuestro modelo ya está definido, en TensorFlow es necesario compilarlo\n",
        "# No vamos a entrar en el detalle de cada parámetro, ya que no es necesario para\n",
        "# esta introducción. El modelo lo compilamos con la siguiente instrucción\n",
        "model.compile(optimizer='adam', \n",
        "              loss=keras.losses.SparseCategoricalCrossentropy(from_logits=True),\n",
        "              metrics=['accuracy'])\n",
        "\n",
        "print(\"Modelo creado correctamente\")"
      ],
      "execution_count": null,
      "outputs": []
    },
    {
      "cell_type": "markdown",
      "metadata": {
        "id": "a28czFvm8SKN",
        "colab_type": "text"
      },
      "source": [
        "Ya está nuestro modelo definido, compilado y también tenemos nuestro dataset.\n",
        "Ahora vamos a \"enseñarle\" al modelo a identificar los números. A esta \n",
        "operación se la conoce como \"entrenamiento\" o \"ajuste del modelo\". En inglés\n",
        "se conoce como \"fit\". \n",
        "Cuando ejecutamos la función \"fit\" sobre el modelo, le indicamos cuáles son\n",
        "las imágenes con las que va a entrenar (estaban en el array \"train_images\"), y\n",
        "cuáles son las etiquetas que le dicen qué número es cada imagen (presentes en \n",
        "el array \"train_lables\").\n",
        "En machine learning es común escuchar las \"epochs\" y \"batch_size\". \n",
        "Cada \"epoch\" es una pasada entera por el dataset de entramiento, al momento de\n",
        "ajustar el modelo, y el \"batch_size\" representa cuántas imágenes va a analizar\n",
        "a la vez. Estos dos valores también incidiran en qué tanto \"aprenda\" nuestro\n",
        "modelo, y tampoco hay una guía definitiva de qué valores usar. En este caso,\n",
        "nuestro batch_size será 32 y realizaremos 5 epochs.\n",
        "\n",
        "Mientras se ejecuta la función \"fit\", veremos el progreso de nuestro modelo.\n",
        "En este momento, nos será relevante el valore de \"accuracy\", que indica con \n",
        "cuánta precisión nuestro modelo es capaz de identificar números en imágenes.\n",
        "Este valor estará entre 0 y 1, cuánto más cercano a 1 esté, más certero será\n",
        "nuestro modelo para identificar los números."
      ]
    },
    {
      "cell_type": "code",
      "metadata": {
        "id": "xhiGy2ZXH_KY",
        "colab_type": "code",
        "colab": {
          "base_uri": "https://localhost:8080/",
          "height": 202
        },
        "outputId": "8051734c-0428-4997-da40-7b6267de0f45"
      },
      "source": [
        "model.fit(train_images, train_labels,batch_size=32,epochs=5)"
      ],
      "execution_count": null,
      "outputs": [
        {
          "output_type": "stream",
          "text": [
            "Epoch 1/5\n",
            "1875/1875 [==============================] - 3s 1ms/step - loss: 0.0099 - accuracy: 0.9971\n",
            "Epoch 2/5\n",
            "1875/1875 [==============================] - 3s 1ms/step - loss: 0.0098 - accuracy: 0.9968\n",
            "Epoch 3/5\n",
            "1875/1875 [==============================] - 3s 1ms/step - loss: 0.0083 - accuracy: 0.9973\n",
            "Epoch 4/5\n",
            "1875/1875 [==============================] - 3s 1ms/step - loss: 0.0068 - accuracy: 0.9978\n",
            "Epoch 5/5\n",
            "1875/1875 [==============================] - 3s 1ms/step - loss: 0.0085 - accuracy: 0.9973\n"
          ],
          "name": "stdout"
        },
        {
          "output_type": "execute_result",
          "data": {
            "text/plain": [
              "<tensorflow.python.keras.callbacks.History at 0x7fe76d08ffd0>"
            ]
          },
          "metadata": {
            "tags": []
          },
          "execution_count": 55
        }
      ]
    },
    {
      "cell_type": "markdown",
      "metadata": {
        "id": "F1JQyZqP8bfj",
        "colab_type": "text"
      },
      "source": [
        "Listo! Nuestro modelo ya puede identificar números en una imagen. Teniendo en\n",
        "cuenta pruebas anteriores con este dataset y esta estructura para el modelo, \n",
        "la variable \"accuracy\" debe haber alcanzado aproximadamente 0.99, lo que\n",
        "significa que \"acierta\" los números en un 99%. Vamos ahora a ver si es tan\n",
        "\"inteligente\"...\n",
        "Al principio, cuando inicializamos las variables de entrenamiento, también se\n",
        "inializaron unas variables llamadas test_images y test_labels. Estas variables\n",
        "tienen una estructura similar a la que tiene el dataset de entrenamiento:\n",
        "\n",
        "- test_images tiene 10.000 imágenes almacenadas como arrays de 28x28, y cada píxel con valores entre 0 y 255.\n",
        "- test_labels tiene los números que están en cada imagen del array test_images\n",
        "\n",
        "Estas variables representan el \"dataset de prueba\". A veces, este dataset\n",
        "es un extracto del dataset de entrenamiento, y en otros casos (como ahora),\n",
        "puede contener imágenes nuevas que no estaban en el dataset de entrenamiento\n",
        "(esto se puede interpretar como \"imágenes que nuestro modelo nunca vio\").\n",
        "Veamos si nuestro modelo puede identificar números en imágenes que nunca \n",
        "vio..."
      ]
    },
    {
      "cell_type": "code",
      "metadata": {
        "id": "9OMEk0PSaame",
        "colab_type": "code",
        "colab": {
          "base_uri": "https://localhost:8080/",
          "height": 282
        },
        "outputId": "cc5cc2d6-31cd-4e4d-e949-9a5f5e8c7060"
      },
      "source": [
        "#Imprimimos abajo, la primera imagen que se encuentre en el dataset de prueba\n",
        "matplotlib.pyplot.imshow(test_images[0], cmap='gray')\n",
        "matplotlib.pyplot.show()\n",
        "\n",
        "# Imprimimos luego el número que está en el primer elemento de test_labels para\n",
        "# ver si corresponde con el número que vimos en la imagen de arriba\n",
        "print(test_labels[0])\n"
      ],
      "execution_count": null,
      "outputs": [
        {
          "output_type": "display_data",
          "data": {
            "image/png": "[encoded data removed]",
            "text/plain": [
              "<Figure size 432x288 with 1 Axes>"
            ]
          },
          "metadata": {
            "tags": [],
            "needs_background": "light"
          }
        },
        {
          "output_type": "stream",
          "text": [
            "7\n"
          ],
          "name": "stdout"
        }
      ]
    },
    {
      "cell_type": "markdown",
      "metadata": {
        "id": "mhLLJzgH8qYd",
        "colab_type": "text"
      },
      "source": [
        "Ahora sí, vimos cuál es el número que está en esa imagen de prueba (el\n",
        "elemento 0 de test_images), veamos si nuestro modelo nos puede decir\n",
        "correctamente el número...\n",
        "Para esto vamos a utilizar un método llamado \"predict\". En machine learning\n",
        "(y en general en el ámbito de la ciencia de datos), se habla de modelos \n",
        "\"predictivos\" a aquellos que, basándose en cosas que \"vio antes\" (como un \n",
        "dataset de entrenamiento), puede \"predecir\" algo que no conoce. \n",
        "Al método \"predict\" le vamos a pasar la imagen 0 del dataset de prueba, pero\n",
        "antes debemos hacer el mismo tratamiento que hicimos al dataset de \n",
        "entrenamiento: ubicar todos los píxeles uno al lado del otro y cambiar los\n",
        "valores que van de 0 a 255, a valores que estén entre 0 y 1. Hacemos todo eso \n",
        "en las siguientes líneas de código"
      ]
    },
    {
      "cell_type": "code",
      "metadata": {
        "id": "-RFuApLRjG7r",
        "colab_type": "code",
        "colab": {}
      },
      "source": [
        "# Modificamos la imagen para que quede un array de una dimensión y valores entre\n",
        "# 0 y 1\n",
        "test_image_0 = test_images[0].reshape(784) / 255\n",
        "\n",
        "# Predecimos el resultado con nuestro modelo y lo guardamos en la variable \n",
        "# result \n",
        "result = model.predict(np.array([test_image_0]))[0]"
      ],
      "execution_count": null,
      "outputs": []
    },
    {
      "cell_type": "markdown",
      "metadata": {
        "id": "ModfsyU48zII",
        "colab_type": "text"
      },
      "source": [
        "Ya tenemos el resultado almacenado en la variable \"result\", la imprimimos en \n",
        "la pantalla para ver qué hay..."
      ]
    },
    {
      "cell_type": "code",
      "metadata": {
        "id": "65zLDaV9lKK8",
        "colab_type": "code",
        "colab": {
          "base_uri": "https://localhost:8080/",
          "height": 50
        },
        "outputId": "752184a8-8b7c-4c5a-eb06-e94976fd49d2"
      },
      "source": [
        "print(result)"
      ],
      "execution_count": null,
      "outputs": [
        {
          "output_type": "stream",
          "text": [
            "[-12.545073  -14.813501   -5.1007113  -0.55225   -25.751637  -11.686336\n",
            " -22.705452   21.782207   -9.639422   -6.05868  ]\n"
          ],
          "name": "stdout"
        }
      ]
    },
    {
      "cell_type": "markdown",
      "metadata": {
        "id": "fwaqorazAtv-",
        "colab_type": "text"
      },
      "source": [
        "Como se puede observar, la variable \"result\" tiene 10 números.\n",
        "Cada uno de esos valores representa el valor de salida de cada neurona de\n",
        "nuestro modelo. El primer valor representa el valor de la primer neurona, el\n",
        "segundo valor va con la segunda neurona, y así para cada una de las diez. Por \n",
        "la manera en la que compilamos el modelo anteriormente, y sin entrar en \n",
        "detalle, el valor de cada neurona indica la probabilidad de que la imagen \n",
        "contenga determinado dígito, en resumen:\n",
        "- Resultado, elemento 0 -> Probabilidad de que el número de la imagen sea un 0\n",
        "- Resultado, elemento 1 -> Probabilidad de que el número de la imagen sea un 1\n",
        "- Resultado, elemento 2 -> Probabilidad de que el número de la imagen sea un 2\n",
        "- Resultado, elemento 3 -> Probabilidad de que el número de la imagen sea un 3\n",
        "- Resultado, elemento 4 -> Probabilidad de que el número de la imagen sea un 4\n",
        "- Resultado, elemento 5 -> Probabilidad de que el número de la imagen sea un 5\n",
        "- Resultado, elemento 6 -> Probabilidad de que el número de la imagen sea un 6\n",
        "- Resultado, elemento 7 -> Probabilidad de que el número de la imagen sea un 7\n",
        "- Resultado, elemento 8 -> Probabilidad de que el número de la imagen sea un 8\n",
        "- Resultado, elemento 9 -> Probabilidad de que el número de la imagen sea un 9\n"
      ]
    },
    {
      "cell_type": "code",
      "metadata": {
        "id": "99Tn0PIdlaCX",
        "colab_type": "code",
        "colab": {
          "base_uri": "https://localhost:8080/",
          "height": 504
        },
        "outputId": "805a534b-69b2-4c78-fd96-2ee4f95566b6"
      },
      "source": [
        "# Imprimimos las probabilidades del resultado anterior\n",
        "print(\"Probabilidad de que la imagen tenga un 0\", result[0])\n",
        "print(\"Probabilidad de que la imagen tenga un 1\", result[1])\n",
        "print(\"Probabilidad de que la imagen tenga un 2\", result[2])\n",
        "print(\"Probabilidad de que la imagen tenga un 3\", result[3])\n",
        "print(\"Probabilidad de que la imagen tenga un 4\", result[4])\n",
        "print(\"Probabilidad de que la imagen tenga un 5\", result[5])\n",
        "print(\"Probabilidad de que la imagen tenga un 6\", result[6])\n",
        "print(\"Probabilidad de que la imagen tenga un 7\", result[7])\n",
        "print(\"Probabilidad de que la imagen tenga un 8\", result[8])\n",
        "print(\"Probabilidad de que la imagen tenga un 9\", result[9])\n",
        "\n",
        "# Utilizamos matplotlib para ver más simplemente qué número tiene la \n",
        "# probabilidad más alta\n",
        "fig = matplotlib.pyplot.figure()\n",
        "ax = fig.add_axes([0,0,1,1])\n",
        "langs = ['0','1','2','3','4','5','6','7','8','9']\n",
        "clrs = ['grey' if (x < max(result)) else 'red' for x in result ]\n",
        "ax.bar(langs,result,color=clrs)\n",
        "matplotlib.pyplot.show()"
      ],
      "execution_count": null,
      "outputs": [
        {
          "output_type": "stream",
          "text": [
            "Probabilidad de que la imagen tenga un 0 -12.545073\n",
            "Probabilidad de que la imagen tenga un 1 -14.813501\n",
            "Probabilidad de que la imagen tenga un 2 -5.1007113\n",
            "Probabilidad de que la imagen tenga un 3 -0.55225\n",
            "Probabilidad de que la imagen tenga un 4 -25.751637\n",
            "Probabilidad de que la imagen tenga un 5 -11.686336\n",
            "Probabilidad de que la imagen tenga un 6 -22.705452\n",
            "Probabilidad de que la imagen tenga un 7 21.782207\n",
            "Probabilidad de que la imagen tenga un 8 -9.639422\n",
            "Probabilidad de que la imagen tenga un 9 -6.05868\n"
          ],
          "name": "stdout"
        },
        {
          "output_type": "display_data",
          "data": {
            "image/png": "[encoded data removed]",
            "text/plain": [
              "<Figure size 432x288 with 1 Axes>"
            ]
          },
          "metadata": {
            "tags": [],
            "needs_background": "light"
          }
        }
      ]
    },
    {
      "cell_type": "markdown",
      "metadata": {
        "id": "YH9WNtetBxZ6",
        "colab_type": "text"
      },
      "source": [
        "## Si nuestro modelo aprendió bien, la probabilidad más alta debe corresponder al número que vimos previamente en la imagen!\n",
        "\n",
        "En este punto validamos que nuestro modelo es capaz de identificar los números que están presentes en la imagen.\n",
        "\n",
        "Esto es tan solo un punto de partida, de esta misma manera podemos generar datasets de entrenamiento que en vez de identificar números, identifiquen objetos en una imagen, o que en vez de trabajar con imágenes, el array de entrada sean las estadísticas de un partido de fútbol y las etiquetas indiquen qué equipo ganó o perdió. Las redes neuronales son una herramienta muy potente para resolver este tipo de problemas. \n",
        "\n",
        "Por último, y lo que hace que este paradigma sea tan sólido es que, las únicas líneas de código que escribimos fueron para que el modelo se entrene, y no tuvimos que escribir en ningún momento un algoritmo que analice y resuelva el problema.\n",
        "\n",
        "Debajo dejo algunos links de utilidad con más información sobre el tema, y algunas prácticas interesantes que se pueden realizar:\n",
        "\n",
        "- https://www.tensorflow.org/ - Documentación oficial de TensorFlow\n",
        "- https://www.tensorflow.org/tutorials/keras/classification?hl=es-419 - Otro ejemplo de clasificación utilizando TensorFlow. En este caso, se identifican prendas de ropa en lugar de números en una imagen.\n"
      ]
    }
  ]
}